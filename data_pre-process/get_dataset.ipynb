{
 "cells": [
  {
   "cell_type": "code",
   "execution_count": 1,
   "metadata": {},
   "outputs": [],
   "source": [
    "import numpy as np\n",
    "import pandas as pd"
   ]
  },
  {
   "cell_type": "code",
   "execution_count": 2,
   "metadata": {},
   "outputs": [
    {
     "data": {
      "text/html": [
       "<div>\n",
       "<style scoped>\n",
       "    .dataframe tbody tr th:only-of-type {\n",
       "        vertical-align: middle;\n",
       "    }\n",
       "\n",
       "    .dataframe tbody tr th {\n",
       "        vertical-align: top;\n",
       "    }\n",
       "\n",
       "    .dataframe thead th {\n",
       "        text-align: right;\n",
       "    }\n",
       "</style>\n",
       "<table border=\"1\" class=\"dataframe\">\n",
       "  <thead>\n",
       "    <tr style=\"text-align: right;\">\n",
       "      <th></th>\n",
       "      <th>osmid</th>\n",
       "      <th>y</th>\n",
       "      <th>x</th>\n",
       "    </tr>\n",
       "  </thead>\n",
       "  <tbody>\n",
       "    <tr>\n",
       "      <th>0</th>\n",
       "      <td>2.558506e+07</td>\n",
       "      <td>39.901987</td>\n",
       "      <td>116.385578</td>\n",
       "    </tr>\n",
       "    <tr>\n",
       "      <th>1</th>\n",
       "      <td>2.558508e+07</td>\n",
       "      <td>39.899003</td>\n",
       "      <td>116.386792</td>\n",
       "    </tr>\n",
       "    <tr>\n",
       "      <th>2</th>\n",
       "      <td>2.558509e+07</td>\n",
       "      <td>39.898860</td>\n",
       "      <td>116.381862</td>\n",
       "    </tr>\n",
       "    <tr>\n",
       "      <th>3</th>\n",
       "      <td>2.558512e+07</td>\n",
       "      <td>39.900544</td>\n",
       "      <td>116.377850</td>\n",
       "    </tr>\n",
       "    <tr>\n",
       "      <th>4</th>\n",
       "      <td>2.558512e+07</td>\n",
       "      <td>39.902940</td>\n",
       "      <td>116.377763</td>\n",
       "    </tr>\n",
       "    <tr>\n",
       "      <th>...</th>\n",
       "      <td>...</td>\n",
       "      <td>...</td>\n",
       "      <td>...</td>\n",
       "    </tr>\n",
       "    <tr>\n",
       "      <th>37481</th>\n",
       "      <td>1.007778e+10</td>\n",
       "      <td>39.996019</td>\n",
       "      <td>116.222735</td>\n",
       "    </tr>\n",
       "    <tr>\n",
       "      <th>37482</th>\n",
       "      <td>1.009133e+10</td>\n",
       "      <td>39.896058</td>\n",
       "      <td>116.599433</td>\n",
       "    </tr>\n",
       "    <tr>\n",
       "      <th>37483</th>\n",
       "      <td>1.009133e+10</td>\n",
       "      <td>39.773362</td>\n",
       "      <td>116.173259</td>\n",
       "    </tr>\n",
       "    <tr>\n",
       "      <th>37484</th>\n",
       "      <td>1.009133e+10</td>\n",
       "      <td>39.775494</td>\n",
       "      <td>116.169075</td>\n",
       "    </tr>\n",
       "    <tr>\n",
       "      <th>37485</th>\n",
       "      <td>1.009133e+10</td>\n",
       "      <td>39.773812</td>\n",
       "      <td>116.171916</td>\n",
       "    </tr>\n",
       "  </tbody>\n",
       "</table>\n",
       "<p>37486 rows × 3 columns</p>\n",
       "</div>"
      ],
      "text/plain": [
       "              osmid          y           x\n",
       "0      2.558506e+07  39.901987  116.385578\n",
       "1      2.558508e+07  39.899003  116.386792\n",
       "2      2.558509e+07  39.898860  116.381862\n",
       "3      2.558512e+07  39.900544  116.377850\n",
       "4      2.558512e+07  39.902940  116.377763\n",
       "...             ...        ...         ...\n",
       "37481  1.007778e+10  39.996019  116.222735\n",
       "37482  1.009133e+10  39.896058  116.599433\n",
       "37483  1.009133e+10  39.773362  116.173259\n",
       "37484  1.009133e+10  39.775494  116.169075\n",
       "37485  1.009133e+10  39.773812  116.171916\n",
       "\n",
       "[37486 rows x 3 columns]"
      ]
     },
     "execution_count": 2,
     "metadata": {},
     "output_type": "execute_result"
    }
   ],
   "source": [
    "node = pd.read_table(\"./node.txt\",delimiter=\",\")\n",
    "node[\"osmid\"].astype(\"int64\")\n",
    "node = node[[\"osmid\",\"y\",\"x\"]]\n",
    "node"
   ]
  },
  {
   "cell_type": "code",
   "execution_count": 3,
   "metadata": {},
   "outputs": [],
   "source": [
    "node_info = {}\n",
    "num = 0\n",
    "for i in range(node.shape[0]):\n",
    "    # print(round(node[\"osmid\"][i]))\n",
    "    node_info[round(node[\"osmid\"][i])] = [num,node[\"y\"][i],node[\"x\"][i]]\n",
    "    num = num+1"
   ]
  },
  {
   "cell_type": "code",
   "execution_count": 22,
   "metadata": {},
   "outputs": [
    {
     "name": "stdout",
     "output_type": "stream",
     "text": [
      "[29164, 39.9464039, 116.4604351]\n",
      "[14684, 39.9469905, 116.4625124]\n"
     ]
    }
   ],
   "source": [
    "print(node_info[8597854497])  #  11065\n",
    "print(node_info[1838508278]) # 11066"
   ]
  },
  {
   "cell_type": "code",
   "execution_count": 5,
   "metadata": {},
   "outputs": [
    {
     "name": "stderr",
     "output_type": "stream",
     "text": [
      "/home/ncut/下载/yes/envs/new_pytorch/lib/python3.7/site-packages/IPython/core/interactiveshell.py:3457: DtypeWarning: Columns (7) have mixed types.Specify dtype option on import or set low_memory=False.\n",
      "  exec(code_obj, self.user_global_ns, self.user_ns)\n"
     ]
    },
    {
     "data": {
      "text/html": [
       "<div>\n",
       "<style scoped>\n",
       "    .dataframe tbody tr th:only-of-type {\n",
       "        vertical-align: middle;\n",
       "    }\n",
       "\n",
       "    .dataframe tbody tr th {\n",
       "        vertical-align: top;\n",
       "    }\n",
       "\n",
       "    .dataframe thead th {\n",
       "        text-align: right;\n",
       "    }\n",
       "</style>\n",
       "<table border=\"1\" class=\"dataframe\">\n",
       "  <thead>\n",
       "    <tr style=\"text-align: right;\">\n",
       "      <th></th>\n",
       "      <th>FID</th>\n",
       "      <th>u</th>\n",
       "      <th>v</th>\n",
       "    </tr>\n",
       "  </thead>\n",
       "  <tbody>\n",
       "    <tr>\n",
       "      <th>0</th>\n",
       "      <td>0</td>\n",
       "      <td>2.558506e+07</td>\n",
       "      <td>5.336507e+08</td>\n",
       "    </tr>\n",
       "    <tr>\n",
       "      <th>1</th>\n",
       "      <td>1</td>\n",
       "      <td>2.558506e+07</td>\n",
       "      <td>8.835881e+09</td>\n",
       "    </tr>\n",
       "    <tr>\n",
       "      <th>2</th>\n",
       "      <td>2</td>\n",
       "      <td>2.558506e+07</td>\n",
       "      <td>3.427913e+08</td>\n",
       "    </tr>\n",
       "    <tr>\n",
       "      <th>3</th>\n",
       "      <td>3</td>\n",
       "      <td>2.558508e+07</td>\n",
       "      <td>1.414035e+09</td>\n",
       "    </tr>\n",
       "    <tr>\n",
       "      <th>4</th>\n",
       "      <td>4</td>\n",
       "      <td>2.558508e+07</td>\n",
       "      <td>9.378036e+09</td>\n",
       "    </tr>\n",
       "    <tr>\n",
       "      <th>...</th>\n",
       "      <td>...</td>\n",
       "      <td>...</td>\n",
       "      <td>...</td>\n",
       "    </tr>\n",
       "    <tr>\n",
       "      <th>86311</th>\n",
       "      <td>86311</td>\n",
       "      <td>1.009133e+10</td>\n",
       "      <td>4.076207e+09</td>\n",
       "    </tr>\n",
       "    <tr>\n",
       "      <th>86312</th>\n",
       "      <td>86312</td>\n",
       "      <td>1.009133e+10</td>\n",
       "      <td>5.345749e+08</td>\n",
       "    </tr>\n",
       "    <tr>\n",
       "      <th>86313</th>\n",
       "      <td>86313</td>\n",
       "      <td>1.009133e+10</td>\n",
       "      <td>9.783252e+09</td>\n",
       "    </tr>\n",
       "    <tr>\n",
       "      <th>86314</th>\n",
       "      <td>86314</td>\n",
       "      <td>1.009133e+10</td>\n",
       "      <td>1.009133e+10</td>\n",
       "    </tr>\n",
       "    <tr>\n",
       "      <th>86315</th>\n",
       "      <td>86315</td>\n",
       "      <td>1.009133e+10</td>\n",
       "      <td>1.009133e+10</td>\n",
       "    </tr>\n",
       "  </tbody>\n",
       "</table>\n",
       "<p>86316 rows × 3 columns</p>\n",
       "</div>"
      ],
      "text/plain": [
       "         FID             u             v\n",
       "0          0  2.558506e+07  5.336507e+08\n",
       "1          1  2.558506e+07  8.835881e+09\n",
       "2          2  2.558506e+07  3.427913e+08\n",
       "3          3  2.558508e+07  1.414035e+09\n",
       "4          4  2.558508e+07  9.378036e+09\n",
       "...      ...           ...           ...\n",
       "86311  86311  1.009133e+10  4.076207e+09\n",
       "86312  86312  1.009133e+10  5.345749e+08\n",
       "86313  86313  1.009133e+10  9.783252e+09\n",
       "86314  86314  1.009133e+10  1.009133e+10\n",
       "86315  86315  1.009133e+10  1.009133e+10\n",
       "\n",
       "[86316 rows x 3 columns]"
      ]
     },
     "execution_count": 5,
     "metadata": {},
     "output_type": "execute_result"
    }
   ],
   "source": [
    "edge = pd.read_table(\"./edge.txt\",delimiter=\",\")\n",
    "edge = edge[[\"FID\",\"u\",\"v\"]]\n",
    "# node[\"osmid\"].astype(\"int64\")\n",
    "edge"
   ]
  },
  {
   "cell_type": "code",
   "execution_count": 6,
   "metadata": {},
   "outputs": [
    {
     "name": "stdout",
     "output_type": "stream",
     "text": [
      "32428\n",
      "1819087328.0\n",
      "1819087316.0\n"
     ]
    }
   ],
   "source": [
    "# np.unique(edge[\"u\"].to_numpy()).shape\n",
    "print(edge[\"FID\"][32428])\n",
    "print(edge[\"u\"][32429])\n",
    "print(edge[\"u\"][32427])\n"
   ]
  },
  {
   "attachments": {},
   "cell_type": "markdown",
   "metadata": {},
   "source": [
    "### 处理经过路网匹配后的数据 得到长度大于等于15 小于15 等于1的轨迹"
   ]
  },
  {
   "cell_type": "code",
   "execution_count": 7,
   "metadata": {},
   "outputs": [],
   "source": [
    "import os\n",
    "path = \"./bj-output-omp-clean/\"\n",
    "files = os.listdir(path)\n",
    "# files.sort(key=lambda x:int(x.split('.')[0]))\n",
    "\n",
    "record_total = 0\n",
    "len_total = 0\n",
    "\n",
    "max_len = 0\n",
    "min_len = 10000\n",
    "\n",
    "\n",
    "# 保存子轨迹 大于等于15\n",
    "traj_up15 = []\n",
    "traj_low15 = []\n",
    "traj_1 = []\n",
    "\n",
    "# exit()\n",
    "for file in files:\n",
    "    # print(file)\n",
    "    sub_traj_mapped = pd.read_csv(path+\"{}\".format(file),delimiter=\";\")\n",
    "    record_total = record_total + sub_traj_mapped.shape[0]\n",
    "\n",
    "    for index,row in sub_traj_mapped.iterrows():\n",
    "        if len(row[0].split(\"\\\"\"))==5:\n",
    "            if len(row[0].split(\"\\\"\")[1].split(\",\"))>=15:\n",
    "                traj_up15.append(row[0].split(\"\\\"\")[1]+\",\"+file.split(\".\")[0])  # 加上车辆ID\n",
    "            else:\n",
    "                traj_low15.append(row[0].split(\"\\\"\")[1]+\",\"+file.split(\".\")[0])  # 加上车辆ID\n",
    "        else:\n",
    "            traj_1.append(row[0].split(\"\\\"\")[0].split(\",\")[1]+\",\"+file.split(\".\")[0])"
   ]
  },
  {
   "cell_type": "code",
   "execution_count": 31,
   "metadata": {},
   "outputs": [
    {
     "name": "stdout",
     "output_type": "stream",
     "text": [
      "19111\n",
      "17583\n",
      "1513\n"
     ]
    },
    {
     "data": {
      "text/plain": [
       "38207"
      ]
     },
     "execution_count": 31,
     "metadata": {},
     "output_type": "execute_result"
    }
   ],
   "source": [
    "print(len(traj_up15))  # ['82397,352,32434,297,35115,33296,33299,1736,609,19166,86233,611,85744,26248,26247,33309,26245,26243,10'\n",
    "print(len(traj_low15))\n",
    "print(len(traj_1))\n",
    "record_total"
   ]
  },
  {
   "cell_type": "code",
   "execution_count": 33,
   "metadata": {},
   "outputs": [],
   "source": [
    "np.save(\"./traj/traj_up15.npy\",np.array(traj_up15))\n",
    "np.save(\"./traj/traj_low15.npy\",np.array(traj_low15))\n",
    "np.save(\"./traj/traj_1.npy\",np.array(traj_1))"
   ]
  },
  {
   "attachments": {},
   "cell_type": "markdown",
   "metadata": {},
   "source": [
    "### 为路段加入其它特征（路段的起始和终点） 方便后续处理"
   ]
  },
  {
   "cell_type": "code",
   "execution_count": null,
   "metadata": {},
   "outputs": [],
   "source": [
    "edgeid_node_dir_map = np.load(\"./edge_info/edgeid_node_dir_map_eid.npy\",allow_pickle=True).tolist()\n",
    "len(edgeid_node_dir_map)\n",
    "traj_low15 = np.load(\"./traj/traj_low15.npy\",allow_pickle=True)\n",
    "traj_1 = np.load(\"./traj/traj_1.npy\",allow_pickle=True)\n",
    "\n",
    "id_ndoe_dir_traj_low15 = []\n",
    "id_ndoe_dir_traj_1 = []\n",
    "\n",
    "for item in traj_low15:\n",
    "    sub_traj = [int(i) for i in item.split(\",\")]\n",
    "\n",
    "    temp = []\n",
    "    for edgeid in sub_traj[:-1]:\n",
    "        # print(edgeid)\n",
    "        # print(edgeid_node_dir_map[edgeid])\n",
    "        temp.append(np.append(edgeid_node_dir_map[edgeid],sub_traj[-1]))\n",
    "    id_ndoe_dir_traj_low15.append(temp)\n",
    "\n",
    "for item in traj_1:\n",
    "    sub_traj = [-1 if len(i.split(\".\"))==2 or item.split(\",\")[0]==\"\"  else int(i)  for i in item.split(\",\")]\n",
    "    temp = []\n",
    "    for edgeid in sub_traj:\n",
    "        if(edgeid != -1):\n",
    "            temp.append(np.append(edgeid_node_dir_map[edgeid],sub_traj[-1]))\n",
    "    id_ndoe_dir_traj_1.append(temp)"
   ]
  },
  {
   "cell_type": "code",
   "execution_count": 26,
   "metadata": {},
   "outputs": [
    {
     "name": "stderr",
     "output_type": "stream",
     "text": [
      "/home/ncut/下载/yes/envs/new_pytorch/lib/python3.7/site-packages/ipykernel_launcher.py:1: VisibleDeprecationWarning: Creating an ndarray from ragged nested sequences (which is a list-or-tuple of lists-or-tuples-or ndarrays with different lengths or shapes) is deprecated. If you meant to do this, you must specify 'dtype=object' when creating the ndarray.\n",
      "  \"\"\"Entry point for launching an IPython kernel.\n"
     ]
    },
    {
     "name": "stdout",
     "output_type": "stream",
     "text": [
      "17583\n",
      "1513\n"
     ]
    },
    {
     "name": "stderr",
     "output_type": "stream",
     "text": [
      "/home/ncut/下载/yes/envs/new_pytorch/lib/python3.7/site-packages/ipykernel_launcher.py:2: VisibleDeprecationWarning: Creating an ndarray from ragged nested sequences (which is a list-or-tuple of lists-or-tuples-or ndarrays with different lengths or shapes) is deprecated. If you meant to do this, you must specify 'dtype=object' when creating the ndarray.\n",
      "  \n"
     ]
    }
   ],
   "source": [
    "np.save(\"./traj/id_ndoe_dir_traj_low15.npy\",np.array(id_ndoe_dir_traj_low15))\n",
    "np.save(\"./traj/id_ndoe_dir_traj_1.npy\",np.array(id_ndoe_dir_traj_1))\n",
    "\n",
    "print(len(id_ndoe_dir_traj_low15))\n",
    "print(len(id_ndoe_dir_traj_1))"
   ]
  },
  {
   "attachments": {},
   "cell_type": "markdown",
   "metadata": {},
   "source": [
    "### 从up15的轨迹中拆分出训练集和测试集,并为每个路段加入其它特征"
   ]
  },
  {
   "cell_type": "code",
   "execution_count": 10,
   "metadata": {},
   "outputs": [
    {
     "name": "stdout",
     "output_type": "stream",
     "text": [
      "['39330,39326,32243,20272,35997,39576,20273,41961,41956,41953,41951,18688,17174,85327,85332,82540,5494,32570,1851,48609,48604,5327'\n",
      " '1391,76096,37609,5300,648,14723,14774,5872,5868,5876,5848,5242,5238,5897,27174,5894,14586,14494,5884,9118,4545,4563,3536,14441,83179,83181,6519,8566,5368,34905,27187,8567,8513,21127,21120,21129,21122,21109,21134,8507,4555,208,75889,25802,25816,4464,32830,36170,18020,5474'\n",
      " '548,31030,702,30985,30963,30959,48913,30956,31024,31021,31014,31003,30997,31002,32411,31004,31037,9344,31047,31048,31050,8517'\n",
      " '31142,31139,31137,14236,31138,51216,29742,634,6594,24319,108,112,126,124,123,8517'\n",
      " '2713,1188,29467,2172,35766,2177,2171,2175,12069,26022,2182,24801,2226,21146,21137,26886,26885,4413']\n",
      "['67134,33087,55579,64482,64480,64474,64481,64478,64476,34569,64805,30238,34564,34567,34570,3605,34572,919'\n",
      " '24386,511,27401,532,537,21532,21514,53771,53769,27537,27535,44340,3881,27533,33789,3882,5436,39732,5219,6315,5221,26126,17351,26116,33779,33778,26115,26117,26124,26137,3978,55101,3980,55081,39730,5438,35668,43988,35672,43989,35669,55096,1070,3975,83135,30295,1071,30290,30288,30287,3918,66568,66580,66567,66563,27117,27115,66537,68204,68171,66850,66856,33171,68276,70420,6133,68050,6893,70444,70510,70512,70448,70446,58425,13033,58396,9247'\n",
      " '48306,32289,39850,30062,30064,30059,56517,16748,47223,32461,47221,16749,56516,30058,7777,30066,28688,30069,28693,30560,24236,1560,7765,16952,32283,26193,334'\n",
      " '6845,18239,26447,26446,26443,30567,6839,26343,54951,26363,26382,26390,26450,2685,26343,54951,26362,26364,26360,26359,3799'\n",
      " '51539,51542,51540,51494,40318,51528,51483,51487,51488,51603,51561,28397,3424,38653,23214,8833']\n"
     ]
    }
   ],
   "source": [
    "edgeid_node_dir_map = np.load(\"./edge_info/edgeid_node_dir_map_eid.npy\",allow_pickle=True).tolist()\n",
    "traj_up15 = np.load(\"./traj/traj_up15.npy\",allow_pickle=True)\n",
    "print(traj_up15[:5])\n",
    "rng = np.random.default_rng(12345)\n",
    "# 打乱数据顺序\n",
    "rng.shuffle(traj_up15)\n",
    "print(traj_up15[:5])\n",
    "# 划分训练集和测试集\n",
    "trainsize = round(len(traj_up15)*0.9)\n",
    "traj_up15_train = traj_up15[:trainsize]\n",
    "traj_up15_test = traj_up15[trainsize:]\n",
    "\n",
    "\n",
    "\n",
    "id_ndoe_dir_traj_train = []\n",
    "id_ndoe_dir_traj_test = []\n",
    "for item in traj_up15_train:\n",
    "    \n",
    "    sub_traj = [int(i) for i in item.split(\",\")]\n",
    "\n",
    "    temp = []\n",
    "    for edgeid in sub_traj[:-1]:\n",
    "        # print(edgeid)\n",
    "        # print(edgeid_node_dir_map[edgeid])\n",
    "        temp.append(np.append(edgeid_node_dir_map[edgeid],sub_traj[-1]))\n",
    "    id_ndoe_dir_traj_train.append(temp)\n",
    "    # break\n",
    "\n",
    "for item in traj_up15_test:\n",
    "    \n",
    "    sub_traj = [int(i) for i in item.split(\",\")]\n",
    "\n",
    "    temp = []\n",
    "    for edgeid in sub_traj[:-1]:\n",
    "        # print(edgeid)\n",
    "        temp.append(np.append(edgeid_node_dir_map[edgeid],sub_traj[-1]))\n",
    "    id_ndoe_dir_traj_test.append(temp)"
   ]
  },
  {
   "cell_type": "code",
   "execution_count": 11,
   "metadata": {},
   "outputs": [
    {
     "name": "stderr",
     "output_type": "stream",
     "text": [
      "/home/ncut/下载/yes/envs/new_pytorch/lib/python3.7/site-packages/ipykernel_launcher.py:1: VisibleDeprecationWarning: Creating an ndarray from ragged nested sequences (which is a list-or-tuple of lists-or-tuples-or ndarrays with different lengths or shapes) is deprecated. If you meant to do this, you must specify 'dtype=object' when creating the ndarray.\n",
      "  \"\"\"Entry point for launching an IPython kernel.\n",
      "/home/ncut/下载/yes/envs/new_pytorch/lib/python3.7/site-packages/ipykernel_launcher.py:2: VisibleDeprecationWarning: Creating an ndarray from ragged nested sequences (which is a list-or-tuple of lists-or-tuples-or ndarrays with different lengths or shapes) is deprecated. If you meant to do this, you must specify 'dtype=object' when creating the ndarray.\n",
      "  \n"
     ]
    },
    {
     "name": "stdout",
     "output_type": "stream",
     "text": [
      "1911\n",
      "17200\n"
     ]
    }
   ],
   "source": [
    "np.save(\"./traj/id_ndoe_dir_traj_from_up15_train.npy\",np.array(id_ndoe_dir_traj_train))\n",
    "np.save(\"./traj/id_ndoe_dir_traj_from_up15_test.npy\",np.array(id_ndoe_dir_traj_test))\n",
    "\n",
    "print(len(id_ndoe_dir_traj_test))\n",
    "print(len(id_ndoe_dir_traj_train))"
   ]
  },
  {
   "cell_type": "code",
   "execution_count": null,
   "metadata": {},
   "outputs": [],
   "source": [
    "id_ndoe_dir_traj_test[-10]"
   ]
  },
  {
   "cell_type": "markdown",
   "metadata": {},
   "source": [
    "## 分割 滑动窗口为5"
   ]
  },
  {
   "cell_type": "code",
   "execution_count": 13,
   "metadata": {},
   "outputs": [],
   "source": [
    "traj_dataset_train = []\n",
    "z = 5\n",
    "for item in id_ndoe_dir_traj_train:\n",
    "    # print(item)\n",
    "    # print(len(item))\n",
    "    \"\"\"\n",
    "    edgeid,node_v,node_id,angle,象限\n",
    "    [[39330, 2382886309, 17409, 270, 6],....]\n",
    "            21\n",
    "    \"\"\"\n",
    "    # break\n",
    "    for i  in range(len(item)):\n",
    "        # print(item[i*z:15+i*z])\n",
    "        if(len(item[i*z:15+i*z])==15):\n",
    "            traj_dataset_train.append(item[i*z:15+i*z])\n",
    "    # break"
   ]
  },
  {
   "cell_type": "code",
   "execution_count": 14,
   "metadata": {},
   "outputs": [
    {
     "data": {
      "text/plain": [
       "(91687, 15, 6)"
      ]
     },
     "execution_count": 14,
     "metadata": {},
     "output_type": "execute_result"
    }
   ],
   "source": [
    "np.save(\"./dataset/traj_dataset_train.npy\",np.array(traj_dataset_train))\n",
    "np.array(traj_dataset_train).shape"
   ]
  },
  {
   "cell_type": "code",
   "execution_count": 15,
   "metadata": {},
   "outputs": [],
   "source": [
    "traj_dataset_test = []\n",
    "z = 5\n",
    "for item in id_ndoe_dir_traj_test:\n",
    "    # print(item)\n",
    "    # print(len(item))\n",
    "    \"\"\"\n",
    "    edgeid,node_v,node_id,angle,象限\n",
    "    [[39330, 2382886309, 17409, 270, 6],....]\n",
    "            21\n",
    "    \"\"\"\n",
    "    # break\n",
    "    for i  in range(len(item)):\n",
    "        # print(item[i*z:15+i*z])\n",
    "        if(len(item[i*z:15+i*z])==15):\n",
    "            traj_dataset_test.append(item[i*z:15+i*z])"
   ]
  },
  {
   "cell_type": "code",
   "execution_count": 16,
   "metadata": {},
   "outputs": [
    {
     "data": {
      "text/plain": [
       "(10348, 15, 6)"
      ]
     },
     "execution_count": 16,
     "metadata": {},
     "output_type": "execute_result"
    }
   ],
   "source": [
    "np.save(\"./dataset/traj_dataset_test.npy\",np.array(traj_dataset_test))\n",
    "np.array(traj_dataset_test).shape"
   ]
  },
  {
   "cell_type": "code",
   "execution_count": null,
   "metadata": {},
   "outputs": [],
   "source": [
    "traj_dataset_test[-10]"
   ]
  },
  {
   "cell_type": "code",
   "execution_count": 17,
   "metadata": {},
   "outputs": [],
   "source": [
    "# (102035, 15, 6)  edgeid,node_v,node_id,angle,象限,taxiid"
   ]
  },
  {
   "cell_type": "markdown",
   "metadata": {},
   "source": [
    "## 路网约束 node_num * 8 "
   ]
  },
  {
   "cell_type": "code",
   "execution_count": 26,
   "metadata": {},
   "outputs": [
    {
     "name": "stdout",
     "output_type": "stream",
     "text": [
      "[[    0     0  4046   106     2]\n",
      " [    1     0 29680   359     7]\n",
      " [    2     0  2488   191     4]\n",
      " ...\n",
      " [86313 37484 36319    36     0]\n",
      " [86314 37484 37485   127     2]\n",
      " [86315 37485 37484   307     6]]\n"
     ]
    }
   ],
   "source": [
    "edge_dir_emb = pd.read_csv(\"./1114/edge_dir_emb-t.csv\").to_numpy()\n",
    "print(edge_dir_emb)\n",
    "\"\"\"\n",
    "[[0, 25585055, 0, 533650673, 4046, 106, 2],\n",
    " [1, 25585055, 0, 8835880543, 29680, 359, 7],\n",
    " [2, 25585055, 0, 342791346, 2488, 191, 4],\n",
    " [3, 25585083, 1, 1414035094, 11091, 317, 7],\n",
    " [4, 25585083, 1, 9378036221, 33037, 268, 5],\n",
    " [5, 25585092, 2, 1414035092, 11090, 1, 0],\n",
    " [6, 25585092, 2, 2099138477, 16079, 267, 5],\n",
    "\"\"\"\n",
    "node_mask = {}\n",
    "for item in edge_dir_emb:\n",
    "    # print(item)\n",
    "    if item[1] not in node_mask:\n",
    "        letter = [0 for _ in range(8)]\n",
    "        letter[item[4]] = 1\n",
    "        node_mask[item[1]] = letter\n",
    "    else:\n",
    "        node_mask[item[1]][item[4]] = 1\n",
    "    \n",
    "    # break"
   ]
  },
  {
   "cell_type": "code",
   "execution_count": 27,
   "metadata": {},
   "outputs": [],
   "source": [
    "node_mask\n",
    "np.save(\"./1114/node_mask.npy\",node_mask)"
   ]
  },
  {
   "cell_type": "code",
   "execution_count": null,
   "metadata": {},
   "outputs": [],
   "source": [
    "dataset = np.load(\"./1114/traj_dataset_window5_5fea.npy\",allow_pickle=True)"
   ]
  },
  {
   "cell_type": "code",
   "execution_count": null,
   "metadata": {},
   "outputs": [],
   "source": [
    "node_mask = np.load(\"./1114/node_mask.npy\",allow_pickle=True)\n",
    "node_mask.tolist().keys()"
   ]
  },
  {
   "cell_type": "code",
   "execution_count": null,
   "metadata": {},
   "outputs": [],
   "source": []
  }
 ],
 "metadata": {
  "kernelspec": {
   "display_name": "new_pytorch",
   "language": "python",
   "name": "python3"
  },
  "language_info": {
   "codemirror_mode": {
    "name": "ipython",
    "version": 3
   },
   "file_extension": ".py",
   "mimetype": "text/x-python",
   "name": "python",
   "nbconvert_exporter": "python",
   "pygments_lexer": "ipython3",
   "version": "3.7.13"
  },
  "orig_nbformat": 4,
  "vscode": {
   "interpreter": {
    "hash": "b5809fc02bc9d27276f7982a734558da1f5a17742c019da42a11da790f4e0a88"
   }
  }
 },
 "nbformat": 4,
 "nbformat_minor": 2
}
