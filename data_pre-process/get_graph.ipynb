{
 "cells": [
  {
   "cell_type": "code",
   "execution_count": 1,
   "metadata": {},
   "outputs": [],
   "source": [
    "import numpy as np\n",
    "import pandas as pd"
   ]
  },
  {
   "cell_type": "code",
   "execution_count": 2,
   "metadata": {},
   "outputs": [
    {
     "data": {
      "text/html": [
       "<div>\n",
       "<style scoped>\n",
       "    .dataframe tbody tr th:only-of-type {\n",
       "        vertical-align: middle;\n",
       "    }\n",
       "\n",
       "    .dataframe tbody tr th {\n",
       "        vertical-align: top;\n",
       "    }\n",
       "\n",
       "    .dataframe thead th {\n",
       "        text-align: right;\n",
       "    }\n",
       "</style>\n",
       "<table border=\"1\" class=\"dataframe\">\n",
       "  <thead>\n",
       "    <tr style=\"text-align: right;\">\n",
       "      <th></th>\n",
       "      <th>osmid</th>\n",
       "      <th>y</th>\n",
       "      <th>x</th>\n",
       "    </tr>\n",
       "  </thead>\n",
       "  <tbody>\n",
       "    <tr>\n",
       "      <th>0</th>\n",
       "      <td>2.558506e+07</td>\n",
       "      <td>39.901987</td>\n",
       "      <td>116.385578</td>\n",
       "    </tr>\n",
       "    <tr>\n",
       "      <th>1</th>\n",
       "      <td>2.558508e+07</td>\n",
       "      <td>39.899003</td>\n",
       "      <td>116.386792</td>\n",
       "    </tr>\n",
       "    <tr>\n",
       "      <th>2</th>\n",
       "      <td>2.558509e+07</td>\n",
       "      <td>39.898860</td>\n",
       "      <td>116.381862</td>\n",
       "    </tr>\n",
       "    <tr>\n",
       "      <th>3</th>\n",
       "      <td>2.558512e+07</td>\n",
       "      <td>39.900544</td>\n",
       "      <td>116.377850</td>\n",
       "    </tr>\n",
       "    <tr>\n",
       "      <th>4</th>\n",
       "      <td>2.558512e+07</td>\n",
       "      <td>39.902940</td>\n",
       "      <td>116.377763</td>\n",
       "    </tr>\n",
       "    <tr>\n",
       "      <th>...</th>\n",
       "      <td>...</td>\n",
       "      <td>...</td>\n",
       "      <td>...</td>\n",
       "    </tr>\n",
       "    <tr>\n",
       "      <th>37481</th>\n",
       "      <td>1.007778e+10</td>\n",
       "      <td>39.996019</td>\n",
       "      <td>116.222735</td>\n",
       "    </tr>\n",
       "    <tr>\n",
       "      <th>37482</th>\n",
       "      <td>1.009133e+10</td>\n",
       "      <td>39.896058</td>\n",
       "      <td>116.599433</td>\n",
       "    </tr>\n",
       "    <tr>\n",
       "      <th>37483</th>\n",
       "      <td>1.009133e+10</td>\n",
       "      <td>39.773362</td>\n",
       "      <td>116.173259</td>\n",
       "    </tr>\n",
       "    <tr>\n",
       "      <th>37484</th>\n",
       "      <td>1.009133e+10</td>\n",
       "      <td>39.775494</td>\n",
       "      <td>116.169075</td>\n",
       "    </tr>\n",
       "    <tr>\n",
       "      <th>37485</th>\n",
       "      <td>1.009133e+10</td>\n",
       "      <td>39.773812</td>\n",
       "      <td>116.171916</td>\n",
       "    </tr>\n",
       "  </tbody>\n",
       "</table>\n",
       "<p>37486 rows × 3 columns</p>\n",
       "</div>"
      ],
      "text/plain": [
       "              osmid          y           x\n",
       "0      2.558506e+07  39.901987  116.385578\n",
       "1      2.558508e+07  39.899003  116.386792\n",
       "2      2.558509e+07  39.898860  116.381862\n",
       "3      2.558512e+07  39.900544  116.377850\n",
       "4      2.558512e+07  39.902940  116.377763\n",
       "...             ...        ...         ...\n",
       "37481  1.007778e+10  39.996019  116.222735\n",
       "37482  1.009133e+10  39.896058  116.599433\n",
       "37483  1.009133e+10  39.773362  116.173259\n",
       "37484  1.009133e+10  39.775494  116.169075\n",
       "37485  1.009133e+10  39.773812  116.171916\n",
       "\n",
       "[37486 rows x 3 columns]"
      ]
     },
     "execution_count": 2,
     "metadata": {},
     "output_type": "execute_result"
    }
   ],
   "source": [
    "node = pd.read_table(\"./node.txt\",delimiter=\",\")\n",
    "node[\"osmid\"].astype(\"int64\")\n",
    "node = node[[\"osmid\",\"y\",\"x\"]]\n",
    "node"
   ]
  },
  {
   "cell_type": "code",
   "execution_count": 3,
   "metadata": {},
   "outputs": [],
   "source": [
    "node_info = {}\n",
    "num = 0\n",
    "for i in range(node.shape[0]):\n",
    "    # print(round(node[\"osmid\"][i]))\n",
    "    node_info[round(node[\"osmid\"][i])] = [num,node[\"y\"][i],node[\"x\"][i]]\n",
    "    num = num+1"
   ]
  },
  {
   "cell_type": "code",
   "execution_count": 4,
   "metadata": {},
   "outputs": [
    {
     "data": {
      "text/plain": [
       "[0, 39.9019869, 116.3855782]"
      ]
     },
     "execution_count": 4,
     "metadata": {},
     "output_type": "execute_result"
    }
   ],
   "source": [
    "node_info[25585055]"
   ]
  },
  {
   "cell_type": "code",
   "execution_count": 5,
   "metadata": {},
   "outputs": [
    {
     "name": "stderr",
     "output_type": "stream",
     "text": [
      "/home/ncut/下载/yes/envs/new_pytorch/lib/python3.7/site-packages/IPython/core/interactiveshell.py:3457: DtypeWarning: Columns (7) have mixed types.Specify dtype option on import or set low_memory=False.\n",
      "  exec(code_obj, self.user_global_ns, self.user_ns)\n"
     ]
    },
    {
     "data": {
      "text/html": [
       "<div>\n",
       "<style scoped>\n",
       "    .dataframe tbody tr th:only-of-type {\n",
       "        vertical-align: middle;\n",
       "    }\n",
       "\n",
       "    .dataframe tbody tr th {\n",
       "        vertical-align: top;\n",
       "    }\n",
       "\n",
       "    .dataframe thead th {\n",
       "        text-align: right;\n",
       "    }\n",
       "</style>\n",
       "<table border=\"1\" class=\"dataframe\">\n",
       "  <thead>\n",
       "    <tr style=\"text-align: right;\">\n",
       "      <th></th>\n",
       "      <th>FID</th>\n",
       "      <th>u</th>\n",
       "      <th>v</th>\n",
       "    </tr>\n",
       "  </thead>\n",
       "  <tbody>\n",
       "    <tr>\n",
       "      <th>0</th>\n",
       "      <td>0</td>\n",
       "      <td>2.558506e+07</td>\n",
       "      <td>5.336507e+08</td>\n",
       "    </tr>\n",
       "    <tr>\n",
       "      <th>1</th>\n",
       "      <td>1</td>\n",
       "      <td>2.558506e+07</td>\n",
       "      <td>8.835881e+09</td>\n",
       "    </tr>\n",
       "    <tr>\n",
       "      <th>2</th>\n",
       "      <td>2</td>\n",
       "      <td>2.558506e+07</td>\n",
       "      <td>3.427913e+08</td>\n",
       "    </tr>\n",
       "    <tr>\n",
       "      <th>3</th>\n",
       "      <td>3</td>\n",
       "      <td>2.558508e+07</td>\n",
       "      <td>1.414035e+09</td>\n",
       "    </tr>\n",
       "    <tr>\n",
       "      <th>4</th>\n",
       "      <td>4</td>\n",
       "      <td>2.558508e+07</td>\n",
       "      <td>9.378036e+09</td>\n",
       "    </tr>\n",
       "    <tr>\n",
       "      <th>...</th>\n",
       "      <td>...</td>\n",
       "      <td>...</td>\n",
       "      <td>...</td>\n",
       "    </tr>\n",
       "    <tr>\n",
       "      <th>86311</th>\n",
       "      <td>86311</td>\n",
       "      <td>1.009133e+10</td>\n",
       "      <td>4.076207e+09</td>\n",
       "    </tr>\n",
       "    <tr>\n",
       "      <th>86312</th>\n",
       "      <td>86312</td>\n",
       "      <td>1.009133e+10</td>\n",
       "      <td>5.345749e+08</td>\n",
       "    </tr>\n",
       "    <tr>\n",
       "      <th>86313</th>\n",
       "      <td>86313</td>\n",
       "      <td>1.009133e+10</td>\n",
       "      <td>9.783252e+09</td>\n",
       "    </tr>\n",
       "    <tr>\n",
       "      <th>86314</th>\n",
       "      <td>86314</td>\n",
       "      <td>1.009133e+10</td>\n",
       "      <td>1.009133e+10</td>\n",
       "    </tr>\n",
       "    <tr>\n",
       "      <th>86315</th>\n",
       "      <td>86315</td>\n",
       "      <td>1.009133e+10</td>\n",
       "      <td>1.009133e+10</td>\n",
       "    </tr>\n",
       "  </tbody>\n",
       "</table>\n",
       "<p>86316 rows × 3 columns</p>\n",
       "</div>"
      ],
      "text/plain": [
       "         FID             u             v\n",
       "0          0  2.558506e+07  5.336507e+08\n",
       "1          1  2.558506e+07  8.835881e+09\n",
       "2          2  2.558506e+07  3.427913e+08\n",
       "3          3  2.558508e+07  1.414035e+09\n",
       "4          4  2.558508e+07  9.378036e+09\n",
       "...      ...           ...           ...\n",
       "86311  86311  1.009133e+10  4.076207e+09\n",
       "86312  86312  1.009133e+10  5.345749e+08\n",
       "86313  86313  1.009133e+10  9.783252e+09\n",
       "86314  86314  1.009133e+10  1.009133e+10\n",
       "86315  86315  1.009133e+10  1.009133e+10\n",
       "\n",
       "[86316 rows x 3 columns]"
      ]
     },
     "execution_count": 5,
     "metadata": {},
     "output_type": "execute_result"
    }
   ],
   "source": [
    "edge = pd.read_table(\"./edge.txt\",delimiter=\",\")\n",
    "edge = edge[[\"FID\",\"u\",\"v\"]]\n",
    "# node[\"osmid\"].astype(\"int64\")\n",
    "edge"
   ]
  },
  {
   "attachments": {},
   "cell_type": "markdown",
   "metadata": {},
   "source": [
    "### 获得静态路网的全局图  邻接矩阵"
   ]
  },
  {
   "cell_type": "code",
   "execution_count": null,
   "metadata": {},
   "outputs": [],
   "source": [
    "A = np.zeros((37486,37486))\n",
    "for index,item in edge.iterrows():\n",
    "    if(node_info[round(item[\"u\"])][0]==node_info[round(item[\"v\"])][0]):\n",
    "        print(node_info[round(item[\"u\"])][0])\n",
    "        print(node_info[round(item[\"v\"])][0])\n",
    "    # A[node_info[round(item[\"u\"])][0]][node_info[round(item[\"v\"])][0]] +=1"
   ]
  },
  {
   "attachments": {},
   "cell_type": "markdown",
   "metadata": {},
   "source": [
    "### 获得训练集的图，为邻接矩阵添加权重"
   ]
  },
  {
   "cell_type": "code",
   "execution_count": null,
   "metadata": {},
   "outputs": [],
   "source": [
    "# 加载训练数据，未划分长度15\n",
    "trainlist = np.load(\"./traj/id_ndoe_dir_traj_from_up15_train.npy\",allow_pickle=True)\n",
    "# print(trainlist.shape)"
   ]
  },
  {
   "cell_type": "code",
   "execution_count": null,
   "metadata": {},
   "outputs": [],
   "source": [
    "for trip in trainlist:\n",
    "    # print(len(trip))\n",
    "    for edge in trip:\n",
    "        # print(edge)  # [67134 u:29164 v:14684    69     1   919]  # edgeid,node_u,node_v,angle,象限,taxiid\n",
    "\n",
    "        A[edge[1]][edge[2]] += 1"
   ]
  },
  {
   "attachments": {},
   "cell_type": "markdown",
   "metadata": {},
   "source": [
    "### 获得小于15 和 等于 1 的轨迹图，为邻接矩阵加权重"
   ]
  },
  {
   "cell_type": "code",
   "execution_count": null,
   "metadata": {},
   "outputs": [],
   "source": [
    "# 加载数据\n",
    "traj_low15 = np.load(\"./traj/id_ndoe_dir_traj_low15.npy\",allow_pickle=True)\n",
    "traj_1 = np.load(\"./traj/id_ndoe_dir_traj_1.npy\",allow_pickle=True)"
   ]
  },
  {
   "cell_type": "code",
   "execution_count": null,
   "metadata": {},
   "outputs": [],
   "source": [
    "for trip in traj_low15:\n",
    "    print(len(trip))\n",
    "    for edge in trip:\n",
    "        # print(edge)  # [67134 u:29164 v:14684    69     1   919]  # edgeid,node_u,node_v,angle,象限,taxiid\n",
    "        A[edge[1]][edge[2]] += 1\n",
    "\n",
    "'''\n",
    "出现问题，traj_1中的轨迹 可以省略掉\n",
    "'''\n",
    "# for trip in traj_1:\n",
    "#     print(len(trip))\n",
    "#     for edge in trip:\n",
    "#         print(edge)  # [67134 u:29164 v:14684    69     1   919]  # edgeid,node_u,node_v,angle,象限,taxiid\n",
    "\n",
    "#         # adj[edge[1]][edge[2]] += 1\n",
    "#     break"
   ]
  },
  {
   "attachments": {},
   "cell_type": "markdown",
   "metadata": {},
   "source": [
    "### 保存adj A"
   ]
  },
  {
   "cell_type": "code",
   "execution_count": null,
   "metadata": {},
   "outputs": [],
   "source": [
    "np.save(\"./A.npy\",A)\n",
    "A.shape"
   ]
  },
  {
   "attachments": {},
   "cell_type": "markdown",
   "metadata": {},
   "source": [
    "### 将adj 转换成 edge_index 和 edge_wight"
   ]
  },
  {
   "cell_type": "code",
   "execution_count": 2,
   "metadata": {},
   "outputs": [
    {
     "name": "stdout",
     "output_type": "stream",
     "text": [
      "85322 85322\n"
     ]
    }
   ],
   "source": [
    "A = np.load(\"./adj/A.npy\",allow_pickle=True)\n",
    "row, col = np.where(A != 0)\n",
    "print(len(row),len(col))"
   ]
  },
  {
   "cell_type": "code",
   "execution_count": 3,
   "metadata": {},
   "outputs": [],
   "source": [
    "def adj_matrix_to_edge_list(adj_matrix, self_loop=False):\n",
    "    edge_list = []\n",
    "    edge_weight = []\n",
    "    row, col = np.where(adj_matrix != 0)\n",
    "    num = 0\n",
    "    for i in range(len(row)):\n",
    "        if not self_loop and row[i] == col[i]:  # 给定了 self_loop=False，则忽略对角线上的元素\n",
    "            num+=1\n",
    "            continue\n",
    "        edge_list.append([row[i], col[i]])\n",
    "        edge_weight.append(int(adj_matrix[row[i], col[i]]))\n",
    "    return edge_list, edge_weight,num"
   ]
  },
  {
   "cell_type": "code",
   "execution_count": 4,
   "metadata": {},
   "outputs": [],
   "source": [
    "edge_list, edge_weight,num = adj_matrix_to_edge_list(A,False)"
   ]
  },
  {
   "cell_type": "code",
   "execution_count": 5,
   "metadata": {},
   "outputs": [
    {
     "data": {
      "text/plain": [
       "137"
      ]
     },
     "execution_count": 5,
     "metadata": {},
     "output_type": "execute_result"
    }
   ],
   "source": [
    "num"
   ]
  },
  {
   "cell_type": "code",
   "execution_count": 17,
   "metadata": {},
   "outputs": [],
   "source": [
    "# np.save(\"./adj/edge_index\")\n",
    "edge_index = np.array(edge_list)\n",
    "edge_index.transpose(1,0)\n",
    "np.save(\"./adj/edge_index_noselfloop.npy\",edge_index.transpose(1,0))"
   ]
  },
  {
   "cell_type": "code",
   "execution_count": 20,
   "metadata": {},
   "outputs": [
    {
     "data": {
      "text/plain": [
       "(85185,)"
      ]
     },
     "execution_count": 20,
     "metadata": {},
     "output_type": "execute_result"
    }
   ],
   "source": [
    "edge_weight = np.array(edge_weight)\n",
    "np.save(\"./adj/edge_weight.npy\",edge_weight)\n",
    "edge_weight.shape"
   ]
  },
  {
   "cell_type": "code",
   "execution_count": null,
   "metadata": {},
   "outputs": [],
   "source": []
  }
 ],
 "metadata": {
  "kernelspec": {
   "display_name": "new_pytorch",
   "language": "python",
   "name": "python3"
  },
  "language_info": {
   "codemirror_mode": {
    "name": "ipython",
    "version": 3
   },
   "file_extension": ".py",
   "mimetype": "text/x-python",
   "name": "python",
   "nbconvert_exporter": "python",
   "pygments_lexer": "ipython3",
   "version": "3.7.13"
  },
  "orig_nbformat": 4,
  "vscode": {
   "interpreter": {
    "hash": "b5809fc02bc9d27276f7982a734558da1f5a17742c019da42a11da790f4e0a88"
   }
  }
 },
 "nbformat": 4,
 "nbformat_minor": 2
}
